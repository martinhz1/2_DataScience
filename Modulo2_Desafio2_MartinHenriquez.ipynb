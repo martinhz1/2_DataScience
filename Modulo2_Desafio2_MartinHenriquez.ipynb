{
 "cells": [
  {
   "cell_type": "markdown",
   "id": "fc6d11c8",
   "metadata": {},
   "source": [
    "# Desafio 2 - Martin Henriquez 🎩"
   ]
  },
  {
   "cell_type": "markdown",
   "id": "2f99e841",
   "metadata": {},
   "source": [
    "# 1. Suma de numeros pares (incluyendo extremos siempre que sean pares)\n"
   ]
  },
  {
   "cell_type": "code",
   "execution_count": null,
   "id": "b0fdb248",
   "metadata": {},
   "outputs": [],
   "source": [
    "# Solicitamos dos números al usuario\n",
    "x = int(input(\"Ingrese el primer número: \"))\n",
    "y = int(input(\"Ingrese el segundo número: \"))\n",
    "\n",
    "\n",
    "#verificar que x sea menor que y\n",
    "if x > y:\n",
    "        x, y = y, x\n",
    "suma = 0 #En este objeto se guardara la suma de ambos numeros cuando hagamos la op\n",
    "\n",
    "# Iterar sobre los números en el rango, incluyendo ambos extremos\n",
    "for i in range(x, y + 1): \n",
    "    if i % 2 == 0: #regla: el resto de la division por 2 debe ser 0 para cumplir la condicion de par\n",
    "        suma += i #Si cumple regla, incluir para la suma en el obj suma\n",
    "\n",
    "    # Imprimir la suma de los números pares\n",
    "print(f\"La suma de los numeros pares entre {x} y {y} es: {suma}\")\n"
   ]
  },
  {
   "cell_type": "markdown",
   "id": "6d9008b9",
   "metadata": {},
   "source": [
    "# 2. Calcular área"
   ]
  },
  {
   "cell_type": "code",
   "execution_count": null,
   "id": "976a59c9",
   "metadata": {},
   "outputs": [],
   "source": [
    "import math as math\n",
    "\n",
    "figura = str(input(\"Ingrese la figura geometrica de la que desea calcular el area: \"))\n",
    "\n",
    "\n",
    "if figura in ['cuadrado', 'Cuadrado']:\n",
    "    lado = int(input(\"Ingrese la longitud correspondiente a cada lado: \"))\n",
    "    area= lado**2\n",
    "    print(\"La longitud del area del cuadrado que ingreso es de: \", area)\n",
    "\n",
    "#LA BASE TIENE QUE SER MENOR A LA SUMA DE LOS LADOS (se podria agregar para complejidad)\n",
    "    \n",
    "elif figura in ['triangulo', 'Triangulo', 'triángulo', 'Triángulo']:\n",
    "    print(\"Suponiendo que tiene un triangulo de base A y altura H: \")\n",
    "    base = int(input(\"Ingrese la longitud de la base del triángulo: \"))\n",
    "    altura = int(input(\"Ingrese la altura del triangulo: \"))\n",
    "    area = (base*altura)/2\n",
    "    print(\"La longitud del area del triangulo que ingreso es de: \", area)\n",
    "   \n",
    "elif figura in ['circulo', 'círculo', 'Círculo', 'círculo']:\n",
    "    print(\"Suponiendo que tiene un circulo de radio R: \")\n",
    "    radio = int(input(\"Ingrese la longitud del radio R del circulo: \"))\n",
    "    area = math.pi * radio ** 2\n",
    "    print(\"La longitud del area del circulo que ingresó es de: \", area)\n",
    "    \n",
    "else:\n",
    "    print(\"No tengo información para calcular el área de la figura que solicita.\")\n",
    "    "
   ]
  },
  {
   "cell_type": "markdown",
   "id": "dc85b93c",
   "metadata": {},
   "source": [
    "# 3. Adivina el número"
   ]
  },
  {
   "cell_type": "code",
   "execution_count": null,
   "id": "ffb39a24",
   "metadata": {},
   "outputs": [],
   "source": [
    "import random as rd\n",
    "\n",
    "numero_secreto = rd.randint(1, 100)\n",
    "\n",
    "print(\"¡Bienvenido al juego de adivinar el número!\")\n",
    "print(\"He elegido un número entre 1 y 100. ¡Intenta adivinarlo!\")\n",
    "\n",
    "while True:\n",
    "    entrada_usuario = input(\"Ingresa tu número: \")\n",
    "    \n",
    "    # Verificamos que el imput no esté vacio\n",
    "    if not entrada_usuario:\n",
    "        print(\"Por favor, ingresa un número.\")\n",
    "        continue\n",
    "\n",
    "    # Verificamos que el imput sea un numero entero\n",
    "    if not entrada_usuario.isdigit():  \n",
    "        print(\"Número inválido. Recuerda ingresar un número entero.\")\n",
    "        continue\n",
    "\n",
    "    numero_usuario = int(entrada_usuario)  # Convertir a numero entero despues de la validacion\n",
    "\n",
    "    if numero_usuario < numero_secreto: \n",
    "        print(\"El número secreto es mayor. Intentalo de nuevo\")\n",
    "    elif numero_usuario > numero_secreto:\n",
    "        print(\"El número secreto es menor. Intentalo de nuevo\")\n",
    "    else:\n",
    "        print(\"¡Felicidades! Adivinaste el número... ¡Impresionante!\")\n",
    "        break  # Terminar programa cuando se adivina\n"
   ]
  },
  {
   "cell_type": "markdown",
   "id": "72327600",
   "metadata": {},
   "source": [
    "# 4. Caracol sprint"
   ]
  },
  {
   "cell_type": "code",
   "execution_count": 1,
   "id": "479bb462",
   "metadata": {},
   "outputs": [
    {
     "name": "stdout",
     "output_type": "stream",
     "text": [
      "Ingresa la velocidad del caracol: 10\n",
      "_____🐌\n",
      "_______________🐌\n",
      "_________________________🐌\n",
      "___________________________________🐌\n",
      "_____________________________________________🐌\n",
      "_______________________________________________________🐌\n",
      "_________________________________________________________________🐌\n",
      "___________________________________________________________________________🐌\n",
      "_____________________________________________________________________________________🐌\n",
      "_______________________________________________________________________________________________🐌\n",
      "_________________________________________________________________________________________________________🐌\n",
      "Y se marchó, y a su barco le llamó Libertad...\n"
     ]
    }
   ],
   "source": [
    "velocidad = int(input(\"Ingresa la velocidad del caracol: \"))\n",
    "\n",
    "posicion_inicial = 5 #Por la imagen de referencia, el print es con el caracol en un t>0, por lo que definimos la posición inicial como 5 por defecto\n",
    "posicion = posicion_inicial\n",
    "meta = 100  #Al llegar posición=100, se termina el programa\n",
    "\n",
    "print(\"_\" * posicion_inicial + \"🐌\")\n",
    "\n",
    "while posicion < meta: #se mantiene corriendo el programa siempre que el caracol no llegue a la meta\n",
    "    posicion += velocidad #actualizamos la posicion en base a la velocidad ingresada\n",
    "    print(\"_\" * posicion + \"🐌\")  #impresión en base a la posición por cada iteracion\n",
    "\n",
    "print(\"Y se marchó, y a su barco le llamó Libertad...\")"
   ]
  }
 ],
 "metadata": {
  "kernelspec": {
   "display_name": "Python 3 (ipykernel)",
   "language": "python",
   "name": "python3"
  },
  "language_info": {
   "codemirror_mode": {
    "name": "ipython",
    "version": 3
   },
   "file_extension": ".py",
   "mimetype": "text/x-python",
   "name": "python",
   "nbconvert_exporter": "python",
   "pygments_lexer": "ipython3",
   "version": "3.11.5"
  }
 },
 "nbformat": 4,
 "nbformat_minor": 5
}
