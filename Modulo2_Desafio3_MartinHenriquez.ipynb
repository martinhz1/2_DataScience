{
 "cells": [
  {
   "cell_type": "markdown",
   "id": "c29cc94e",
   "metadata": {},
   "source": [
    "# 1. Usando la siguiente lista:"
   ]
  },
  {
   "cell_type": "code",
   "execution_count": 1,
   "id": "33eca234",
   "metadata": {},
   "outputs": [],
   "source": [
    "lista = [\"manzana\", \"pera\", \"naranja\", \"plátano\", \"kiwi\", \"uva\", \"piña\", \"mango\", \"sandía\", \"melón\"]"
   ]
  },
  {
   "cell_type": "markdown",
   "id": "9f00586b",
   "metadata": {},
   "source": [
    "### a. Imprimir el quinto elemento de la lista "
   ]
  },
  {
   "cell_type": "code",
   "execution_count": 2,
   "id": "58b671d7",
   "metadata": {},
   "outputs": [
    {
     "name": "stdout",
     "output_type": "stream",
     "text": [
      "kiwi\n"
     ]
    }
   ],
   "source": [
    "print(lista[4])"
   ]
  },
  {
   "cell_type": "markdown",
   "id": "b0281860",
   "metadata": {},
   "source": [
    "### b. Imprime del cuarto al sexto inclusive"
   ]
  },
  {
   "cell_type": "code",
   "execution_count": 3,
   "id": "355e9991",
   "metadata": {},
   "outputs": [
    {
     "name": "stdout",
     "output_type": "stream",
     "text": [
      "['plátano', 'kiwi', 'uva']\n"
     ]
    }
   ],
   "source": [
    "print(lista[3:6])"
   ]
  },
  {
   "cell_type": "markdown",
   "id": "8dc0c2c1",
   "metadata": {},
   "source": [
    "### c. Eliminar elemento en la tercera posición (\"naranja\")"
   ]
  },
  {
   "cell_type": "code",
   "execution_count": 4,
   "id": "d1b1ddee",
   "metadata": {},
   "outputs": [
    {
     "name": "stdout",
     "output_type": "stream",
     "text": [
      "['manzana', 'pera', 'plátano', 'kiwi', 'uva', 'piña', 'mango', 'sandía', 'melón']\n"
     ]
    }
   ],
   "source": [
    "del lista[2] #eliminamos 3er elemento de la lista original (\"naranja\")\n",
    "print(lista) #deberiamos tener 9 elementos en el resultado final "
   ]
  },
  {
   "cell_type": "markdown",
   "id": "ec899f8b",
   "metadata": {},
   "source": [
    "### d. Agregar dos elementos a la lista "
   ]
  },
  {
   "cell_type": "code",
   "execution_count": 5,
   "id": "6291b570",
   "metadata": {},
   "outputs": [
    {
     "name": "stdout",
     "output_type": "stream",
     "text": [
      "['manzana', 'pera', 'plátano', 'kiwi', 'uva', 'piña', 'mango', 'sandía', 'melón', 'chirimoya', 'membrillo']\n"
     ]
    }
   ],
   "source": [
    "lista.extend(['chirimoya','membrillo']) #agregamos dos elementos con metodo extend (mejor que usar dos veces append)\n",
    "print(lista)\n",
    "\n",
    "#Luego de eliminar un elemento y agregar dos, quedamos con 11 elementos en la lista \"lista\""
   ]
  },
  {
   "cell_type": "markdown",
   "id": "913d316b",
   "metadata": {},
   "source": [
    "### e. Ordenar lista alfabeticamente"
   ]
  },
  {
   "cell_type": "code",
   "execution_count": 6,
   "id": "14629e58",
   "metadata": {},
   "outputs": [
    {
     "name": "stdout",
     "output_type": "stream",
     "text": [
      "['chirimoya', 'kiwi', 'mango', 'manzana', 'melón', 'membrillo', 'pera', 'piña', 'plátano', 'sandía', 'uva']\n"
     ]
    }
   ],
   "source": [
    "lista.sort() #ordenamos alfabeticamente con el metodo sort\n",
    "\n",
    "print(lista)"
   ]
  },
  {
   "cell_type": "markdown",
   "id": "8aa7ef3d",
   "metadata": {},
   "source": [
    "### f. Genera un diccionario usando lista1 como llaves y lista como valores."
   ]
  },
  {
   "cell_type": "code",
   "execution_count": 7,
   "id": "ac1ce06c",
   "metadata": {},
   "outputs": [],
   "source": [
    "#Contamos con dos listas, donde lista (valores) tiene 11 elementos y lista1 (llaves) contiene 10...\n",
    "lista1 = [\"uno\", \"dos\", \"tres\", \"cuatro\", \"cinco\", \"seis\", \"siete\", \"ocho\", \"nueve\", \"diez\"]\n",
    "\n",
    "diccionario = dict(zip(lista1,lista))"
   ]
  },
  {
   "cell_type": "code",
   "execution_count": 8,
   "id": "93706e04",
   "metadata": {},
   "outputs": [
    {
     "name": "stdout",
     "output_type": "stream",
     "text": [
      "{'uno': 'chirimoya', 'dos': 'kiwi', 'tres': 'mango', 'cuatro': 'manzana', 'cinco': 'melón', 'seis': 'membrillo', 'siete': 'pera', 'ocho': 'piña', 'nueve': 'plátano', 'diez': 'sandía'}\n"
     ]
    }
   ],
   "source": [
    "print(diccionario)"
   ]
  },
  {
   "cell_type": "markdown",
   "id": "af8ddf4e",
   "metadata": {},
   "source": [
    "#### Ojo: Podemos ver que el elemento num 11 de lista(\"uva\") no tendrá llave ya que le dimos solo 10 elementos en lista1"
   ]
  },
  {
   "cell_type": "markdown",
   "id": "271255f4",
   "metadata": {},
   "source": [
    "# 2. Fabrica de Cerveza Artesanal "
   ]
  },
  {
   "cell_type": "code",
   "execution_count": 9,
   "id": "cf81f298",
   "metadata": {},
   "outputs": [
    {
     "data": {
      "text/plain": [
       "array([0.  , 5.06, 4.29, ..., 4.68, 5.12, 4.92])"
      ]
     },
     "execution_count": 9,
     "metadata": {},
     "output_type": "execute_result"
    }
   ],
   "source": [
    "import numpy as np \n",
    "\n",
    "array = np.loadtxt(\"/Users/martinhenriquez/Downloads/alcohol_cerveza.csv\") #ruta de archivo local\n",
    "array"
   ]
  },
  {
   "cell_type": "markdown",
   "id": "ef899f8f",
   "metadata": {},
   "source": [
    "### a. Calcular media "
   ]
  },
  {
   "cell_type": "code",
   "execution_count": 10,
   "id": "8cd94118",
   "metadata": {},
   "outputs": [
    {
     "name": "stdout",
     "output_type": "stream",
     "text": [
      "5.005334665334665\n"
     ]
    }
   ],
   "source": [
    "media = np.mean(array)\n",
    "print(media)"
   ]
  },
  {
   "cell_type": "markdown",
   "id": "47035da3",
   "metadata": {},
   "source": [
    "### b. Calcular desviación estándar "
   ]
  },
  {
   "cell_type": "code",
   "execution_count": 11,
   "id": "ce7ea98b",
   "metadata": {},
   "outputs": [
    {
     "name": "stdout",
     "output_type": "stream",
     "text": [
      "0.34934892044901755\n"
     ]
    }
   ],
   "source": [
    "desviacion = np.std(array)\n",
    "print(desviacion)"
   ]
  },
  {
   "cell_type": "markdown",
   "id": "1946cc15",
   "metadata": {},
   "source": [
    "### c. Calcular LIC y LSC "
   ]
  },
  {
   "cell_type": "code",
   "execution_count": 12,
   "id": "154ec203",
   "metadata": {},
   "outputs": [
    {
     "name": "stdout",
     "output_type": "stream",
     "text": [
      "El limite inferior es 3.9572879039876123\n",
      "El limite superior es 6.053381426681717\n"
     ]
    }
   ],
   "source": [
    "### LIC = media - (3 * desviacion)\n",
    "lic= media - (3*desviacion)\n",
    "### LSC = media + (3 * desviacion)\n",
    "lsc=media + (3*desviacion)\n",
    "\n",
    "print(f\"El limite inferior es {lic}\")\n",
    "print(f\"El limite superior es {lsc}\")"
   ]
  },
  {
   "cell_type": "markdown",
   "id": "3edd402a",
   "metadata": {},
   "source": [
    "### d. Impresion de resultados "
   ]
  },
  {
   "cell_type": "code",
   "execution_count": 13,
   "id": "16d99c60",
   "metadata": {},
   "outputs": [
    {
     "name": "stdout",
     "output_type": "stream",
     "text": [
      "La media del porcentaje de alcohol del lote es de 5.005334665334665\n",
      "La desviacion estándar del porcentaje de alcohol del lote es de 0.34934892044901755\n",
      "El limite inferior del porcentaje de alcohol del lote es de 3.9572879039876123\n",
      "El limite superior del porcentaje de alcohol del lote es de 6.053381426681717\n"
     ]
    }
   ],
   "source": [
    "print(f\"La media del porcentaje de alcohol del lote es de {media}\")\n",
    "print(f\"La desviacion estándar del porcentaje de alcohol del lote es de {desviacion}\")\n",
    "print(f\"El limite inferior del porcentaje de alcohol del lote es de {lic}\")\n",
    "print(f\"El limite superior del porcentaje de alcohol del lote es de {lsc}\")"
   ]
  },
  {
   "cell_type": "markdown",
   "id": "f0ec0146",
   "metadata": {},
   "source": [
    "### e. Filtrar el array para obtener las cervezas cuyo valor de % de alcohol estan fuera del limite de control (control de calidad)"
   ]
  },
  {
   "cell_type": "code",
   "execution_count": 14,
   "id": "cbb3e80e",
   "metadata": {},
   "outputs": [
    {
     "data": {
      "text/plain": [
       "array([0.  , 3.87])"
      ]
     },
     "execution_count": 14,
     "metadata": {},
     "output_type": "execute_result"
    }
   ],
   "source": [
    "outliers = array[np.logical_or(array < lic, array > lsc)]\n",
    "outliers"
   ]
  },
  {
   "cell_type": "code",
   "execution_count": 15,
   "id": "dab4a4d8",
   "metadata": {},
   "outputs": [
    {
     "name": "stdout",
     "output_type": "stream",
     "text": [
      "Numero de outliers: 2\n"
     ]
    }
   ],
   "source": [
    "print(f'Numero de outliers: {len(outliers)}')"
   ]
  },
  {
   "cell_type": "code",
   "execution_count": 16,
   "id": "e453851d",
   "metadata": {
    "scrolled": true
   },
   "outputs": [
    {
     "name": "stdout",
     "output_type": "stream",
     "text": [
      "La cerveza número 1 tiene 0.0% de alcohol\n",
      "La cerveza número 2 tiene 3.87% de alcohol\n"
     ]
    }
   ],
   "source": [
    "for n, i in enumerate(outliers):\n",
    "    print(f'La cerveza número {n+1} tiene {i}% de alcohol')\n",
    "\n",
    "#Sabemos que tenemos 2 outliers y su porcentaje de alcohol respectivo."
   ]
  },
  {
   "cell_type": "markdown",
   "id": "d17fc845",
   "metadata": {},
   "source": [
    "### Fin"
   ]
  }
 ],
 "metadata": {
  "kernelspec": {
   "display_name": "Python 3 (ipykernel)",
   "language": "python",
   "name": "python3"
  },
  "language_info": {
   "codemirror_mode": {
    "name": "ipython",
    "version": 3
   },
   "file_extension": ".py",
   "mimetype": "text/x-python",
   "name": "python",
   "nbconvert_exporter": "python",
   "pygments_lexer": "ipython3",
   "version": "3.11.5"
  }
 },
 "nbformat": 4,
 "nbformat_minor": 5
}
