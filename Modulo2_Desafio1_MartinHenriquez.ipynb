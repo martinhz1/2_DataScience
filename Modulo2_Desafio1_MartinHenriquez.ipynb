{
 "cells": [
  {
   "cell_type": "markdown",
   "id": "59283fe0",
   "metadata": {},
   "source": [
    "# 1. Calcular Sueldo"
   ]
  },
  {
   "cell_type": "markdown",
   "id": "9b70149f",
   "metadata": {},
   "source": [
    "## Ingresar Monto ventas"
   ]
  },
  {
   "cell_type": "code",
   "execution_count": 1,
   "id": "8008bc8f",
   "metadata": {},
   "outputs": [
    {
     "name": "stdout",
     "output_type": "stream",
     "text": [
      "Ingresa el monto de ventas del presente mes: 500\n"
     ]
    }
   ],
   "source": [
    "#Solicitamos imput de Ventas\n",
    "Ventas = int(input(\"Ingresa el monto de ventas del presente mes: \"))"
   ]
  },
  {
   "cell_type": "markdown",
   "id": "22e129be",
   "metadata": {},
   "source": [
    "## Para calcular sueldo final"
   ]
  },
  {
   "cell_type": "code",
   "execution_count": 2,
   "id": "28fe8fa2",
   "metadata": {},
   "outputs": [],
   "source": [
    "#Definimos objeto Sueldo como la suma de un valor fijo + 0.1*imput(ventas)\n",
    "Sueldo = 500+Ventas*0.1"
   ]
  },
  {
   "cell_type": "code",
   "execution_count": 3,
   "id": "45a7ec0f",
   "metadata": {},
   "outputs": [
    {
     "name": "stdout",
     "output_type": "stream",
     "text": [
      "Tu sueldo final es de 550.0 dolares\n"
     ]
    }
   ],
   "source": [
    "print(f\"Tu sueldo final es de {Sueldo} dolares\")"
   ]
  },
  {
   "cell_type": "markdown",
   "id": "88c957b0",
   "metadata": {},
   "source": [
    "# 2. Fruteria Virtual"
   ]
  },
  {
   "cell_type": "code",
   "execution_count": 4,
   "id": "f7a103c5",
   "metadata": {},
   "outputs": [
    {
     "name": "stdout",
     "output_type": "stream",
     "text": [
      "Ingresa la fruta que buscas: Kiwi\n"
     ]
    },
    {
     "data": {
      "text/plain": [
       "25"
      ]
     },
     "execution_count": 4,
     "metadata": {},
     "output_type": "execute_result"
    }
   ],
   "source": [
    "# Creacion del catalogo\n",
    "catalogo = {\n",
    "    'Mango':10,\n",
    "    'Chirimoya':15,\n",
    "    'Kiwi':25,\n",
    "    'Platano':5,\n",
    "    'Manzana':7\n",
    "}\n",
    "# Pedimos imput al usuario \n",
    "fruta=input('Ingresa la fruta que buscas: ')\n",
    "# En caso de no haber stock\n",
    "catalogo.get(fruta, f'Lo siento, no contamos con {fruta}')"
   ]
  },
  {
   "cell_type": "markdown",
   "id": "3ec0f0ea",
   "metadata": {},
   "source": [
    "# 3. Casino"
   ]
  },
  {
   "cell_type": "code",
   "execution_count": 5,
   "id": "15aaf18a",
   "metadata": {},
   "outputs": [
    {
     "name": "stdout",
     "output_type": "stream",
     "text": [
      "Dado 1: 6\n",
      "Dado 2: 3\n",
      "Dado 1: 6 + Dado 2: 3 = 9\n"
     ]
    }
   ],
   "source": [
    "#Importamos libreria\n",
    "import random\n",
    "\n",
    "#Definimos dado 1 y dado 2 usando random.randint con valores de 1 a 6\n",
    "Dado_1=random.randint(1,6)\n",
    "Dado_2=random.randint(1,6)\n",
    "#Definimos objeto Suma como la suma de dado 1 y dado 2 \n",
    "Suma=Dado_1+Dado_2\n",
    "\n",
    "print('Dado 1:',Dado_1)\n",
    "print('Dado 2:',Dado_2)\n",
    "print(f'Dado 1: {Dado_1} + Dado 2: {Dado_2} = {Suma}')"
   ]
  },
  {
   "cell_type": "markdown",
   "id": "a2d2faca",
   "metadata": {},
   "source": [
    "# 4. Calculadora de Chocolate/Calorias"
   ]
  },
  {
   "cell_type": "code",
   "execution_count": 6,
   "id": "17f6a94b",
   "metadata": {},
   "outputs": [
    {
     "name": "stdout",
     "output_type": "stream",
     "text": [
      "Cual es tu límite de calorias: 2000\n",
      "Cuantas calorias hay en tu porción: 200\n",
      "Tu límite de porciones de Chocolate es: 10.0\n"
     ]
    }
   ],
   "source": [
    "from os import name\n",
    "\n",
    "#Definicion de objetos y solicitudes de imput\n",
    "limite_cals = int(input('Cual es tu límite de calorias: '))\n",
    "cals_porcion = int(input('Cuantas calorias hay en tu porción: '))\n",
    "\n",
    "#Objeto final \n",
    "max_chocolate = limite_cals/cals_porcion\n",
    "print(f'Tu limite de porciones de Chocolate es: {max_chocolate}')"
   ]
  }
 ],
 "metadata": {
  "kernelspec": {
   "display_name": "Python 3 (ipykernel)",
   "language": "python",
   "name": "python3"
  },
  "language_info": {
   "codemirror_mode": {
    "name": "ipython",
    "version": 3
   },
   "file_extension": ".py",
   "mimetype": "text/x-python",
   "name": "python",
   "nbconvert_exporter": "python",
   "pygments_lexer": "ipython3",
   "version": "3.11.5"
  }
 },
 "nbformat": 4,
 "nbformat_minor": 5
}
